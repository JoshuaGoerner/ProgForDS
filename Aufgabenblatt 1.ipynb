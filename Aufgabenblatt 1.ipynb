{
 "cells": [
  {
   "cell_type": "markdown",
   "metadata": {},
   "source": [
    "# Aufgabe 1.0"
   ]
  },
  {
   "cell_type": "code",
   "execution_count": 65,
   "metadata": {
    "collapsed": false
   },
   "outputs": [
    {
     "name": "stdout",
     "output_type": "stream",
     "text": [
      "[9, 36, 81, 144, 225, 324, 441, 576, 729, 900, 1089, 1296, 1521, 1764, 2025, 2304, 2601, 2916, 3249, 3600, 3969, 4356, 4761, 5184, 5625, 6084, 6561, 7056, 7569, 8100, 8649, 9216, 9801, 10404, 11025, 11664, 12321, 12996, 13689, 14400, 15129, 15876, 16641, 17424, 18225, 19044, 19881, 20736, 21609, 22500, 23409, 24336, 25281, 26244, 27225, 28224, 29241, 30276, 31329, 32400, 33489, 34596, 35721, 36864, 38025, 39204, 40401, 41616, 42849, 44100, 45369, 46656, 47961, 49284, 50625, 51984, 53361, 54756, 56169, 57600, 59049, 60516, 62001, 63504, 65025, 66564, 68121, 69696, 71289, 72900, 74529, 76176, 77841, 79524, 81225, 82944, 84681, 86436, 88209, 90000, 91809, 93636, 95481, 97344, 99225, 101124, 103041, 104976, 106929, 108900, 110889, 112896, 114921, 116964, 119025, 121104, 123201, 125316, 127449, 129600, 131769, 133956, 136161, 138384, 140625, 142884, 145161, 147456, 149769, 152100, 154449, 156816, 159201, 161604, 164025, 166464, 168921, 171396, 173889, 176400, 178929, 181476, 184041, 186624, 189225, 191844, 194481, 197136, 199809, 202500, 205209, 207936, 210681, 213444, 216225, 219024, 221841, 224676, 227529, 230400, 233289, 236196, 239121, 242064, 245025, 248004, 251001, 254016, 257049, 260100, 263169, 266256, 269361, 272484, 275625, 278784, 281961, 285156, 288369, 291600, 294849, 298116, 301401, 304704, 308025, 311364, 314721, 318096, 321489, 324900, 328329, 331776, 335241, 338724, 342225, 345744, 349281, 352836, 356409, 360000, 363609, 367236, 370881, 374544, 378225, 381924, 385641, 389376, 393129, 396900, 400689, 404496, 408321, 412164, 416025, 419904, 423801, 427716, 431649, 435600, 439569, 443556, 447561, 451584, 455625, 459684, 463761, 467856, 471969, 476100, 480249, 484416, 488601, 492804, 497025, 501264, 505521, 509796, 514089, 518400, 522729, 527076, 531441, 535824, 540225, 544644, 549081, 553536, 558009, 562500, 567009, 571536, 576081, 580644, 585225, 589824, 594441, 599076, 603729, 608400, 613089, 617796, 622521, 627264, 632025, 636804, 641601, 646416, 651249, 656100, 660969, 665856, 670761, 675684, 680625, 685584, 690561, 695556, 700569, 705600, 710649, 715716, 720801, 725904, 731025, 736164, 741321, 746496, 751689, 756900, 762129, 767376, 772641, 777924, 783225, 788544, 793881, 799236, 804609, 810000, 815409, 820836, 826281, 831744, 837225, 842724, 848241, 853776, 859329, 864900, 870489, 876096, 881721, 887364, 893025, 898704, 904401, 910116, 915849, 921600, 927369, 933156, 938961, 944784, 950625, 956484, 962361, 968256, 974169, 980100, 986049, 992016, 998001]\n"
     ]
    }
   ],
   "source": [
    "resultLC = [ x**2 for x in range(1,1000) if x % 3 == 0]\n",
    "resultMap = map(lambda x: x**2, filter(lambda y: y%3 == 0,range(1,1000)))\n",
    "print(resultLC)\n",
    "#print(resultMap)"
   ]
  },
  {
   "cell_type": "markdown",
   "metadata": {},
   "source": [
    "# Aufgabe 1.1"
   ]
  },
  {
   "cell_type": "code",
   "execution_count": 64,
   "metadata": {
    "collapsed": false
   },
   "outputs": [
    {
     "name": "stdout",
     "output_type": "stream",
     "text": [
      "A\n",
      "[1, 3, 5, 15]\n",
      "\n",
      "B\n",
      "16:\t[1, 2, 4, 8, 16]\n",
      "81:\t[1, 3, 9, 27, 81]\n",
      "625:\t[1, 5, 25, 125, 625]\n",
      "\n",
      "C\n",
      "840 hat 32 Teiler\n"
     ]
    }
   ],
   "source": [
    "# A\n",
    "def teiler(n):\n",
    "    return [x for x in range(1, n+1) if n % x == 0] #list comprehension\n",
    "    #return filter(lambda x: n%x == 0, range(1, n+1)) #map\n",
    "print(\"A\\n{}\\n\".format(teiler(15)))\n",
    "\n",
    "# B\n",
    "resultLC = [ x for x in range(1, 1001) if len(teiler(x)) == 5]\n",
    "resultMap = filter(lambda x: len(teiler(x)) == 5, range(1,1001))\n",
    "print(\"B\\n16:\\t{}\\n81:\\t{}\\n625:\\t{}\\n\".format(teiler(16), teiler(81), teiler(625)))\n",
    "\n",
    "# C\n",
    "resultLC = max([(len(teiler(x)),x) for x in range(1,1001)])\n",
    "print(\"C\\n{} hat {} Teiler\".format(resultLC[1], resultLC[0]))"
   ]
  },
  {
   "cell_type": "markdown",
   "metadata": {},
   "source": [
    "# Aufgabe 1.2\n",
    "a = ['a', 'ab', 'abc']<br>\n",
    "b = a<br>\n",
    "b.append('abcd')<br>\n",
    "c = b[:]<br>\n",
    "b[0] = '0'<br>\n",
    "--------------<br>\n",
    "a = b = ['a', 'ab', 'abc', 'abcd']<br>\n",
    "c = ['0', 'ab', 'abc', 'abcd']<br>"
   ]
  },
  {
   "cell_type": "markdown",
   "metadata": {},
   "source": [
    "# Aufabe 1.3 "
   ]
  },
  {
   "cell_type": "code",
   "execution_count": 76,
   "metadata": {
    "collapsed": false
   },
   "outputs": [
    {
     "name": "stdout",
     "output_type": "stream",
     "text": [
      "(2, 3)\n",
      "[[1, 2, 3, 4, 5, 6, 7, 8, 9, 10, 11], [10, 11, 12, 13, 14, 15, 16, 17, 18, 19]]\n",
      "lHello\n",
      "99\n",
      "25\n"
     ]
    }
   ],
   "source": [
    "print(range(1, 100)[1],range(1, 100)[2])\n",
    "print([range(1,12), range(10, 20)])\n",
    "print(['Hello', 2, 'World'][0][2] + ['Hello', 2, 'World'][0])\n",
    "print(len(range(1,100)))\n",
    "print(len(range(100, 200)[0:50:2]))"
   ]
  },
  {
   "cell_type": "markdown",
   "metadata": {},
   "source": [
    "# Aufgabe 1.4*"
   ]
  },
  {
   "cell_type": "code",
   "execution_count": 84,
   "metadata": {
    "collapsed": false
   },
   "outputs": [
    {
     "name": "stdout",
     "output_type": "stream",
     "text": [
      "['ad', 'ae', 'bd', 'be', 'cd', 'ce']\n",
      "[0, 0, 1, 1]\n",
      "[2, 3, 4, 5, 6, 7]\n",
      "[4, 3, 2, 1, 0]\n",
      "hallo\n",
      "[5, 0, 4, 0, 1]\n",
      "1\n"
     ]
    }
   ],
   "source": [
    "print([x+y for x in 'abc' for y in 'de'])\n",
    "print([0]*2+[1]*2)\n",
    "print(range(10)[2:-2])\n",
    "print(range(5)[::-1])\n",
    "print('hallon'[:-1])\n",
    "print([len(x) for x in ['hallo', '', 'welt', '', '!']])\n",
    "print([[1,2], [2], []][0][0])"
   ]
  },
  {
   "cell_type": "markdown",
   "metadata": {},
   "source": [
    "# Aufgabe 1.5*"
   ]
  },
  {
   "cell_type": "code",
   "execution_count": 93,
   "metadata": {
    "collapsed": false
   },
   "outputs": [
    {
     "name": "stdout",
     "output_type": "stream",
     "text": [
      "o\n",
      "Hallowelt\n",
      "[1, 1, 0, 1, 1, 0, 1, 1, 0, 1, 1, 0, 1, 1]\n",
      "[1, 2, 3, 1, 2, 3, 1, 2, 3, 1, 2, 3]\n"
     ]
    }
   ],
   "source": [
    "print('Hallo'[4 if (4 if 4==2 else 3)==3 else 5])\n",
    "print('Hallo'+'welt' if str(2-1)==str(1) else 'Welt')\n",
    "print([0 if i%3==0 else 1 for i in range(1,15)])\n",
    "print((lambda f, x:f(f(x)))(lambda x: x*2, [1,2,3])) #WTF???"
   ]
  },
  {
   "cell_type": "markdown",
   "metadata": {},
   "source": [
    "# Aufgabe 1.6"
   ]
  },
  {
   "cell_type": "code",
   "execution_count": 100,
   "metadata": {
    "collapsed": false
   },
   "outputs": [
    {
     "name": "stdout",
     "output_type": "stream",
     "text": [
      "A\n",
      "5050\n",
      "\n",
      "B\n",
      "1683\n",
      "\n",
      "C\n",
      "[1, 2, 3, 4, 5, 6, 7, 8, 9, 10, 12, 14, 15, 16, 17, 18, 19, 20, 21, 23, 24, 25, 27, 28, 29, 30, 31, 32, 34, 35, 36, 37, 38, 40, 41, 42, 43, 45, 46, 47, 48, 49, 50, 51, 53, 54, 56, 57, 58, 59, 60, 61, 62, 63, 64, 67, 68, 69, 70, 71, 72, 73, 74, 75, 76, 79, 80, 81, 82, 83, 84, 85, 86, 87, 89, 90, 92, 93, 94, 95, 96, 97, 98, 100, 101, 102, 103, 105, 106, 107, 108, 109, 111, 112, 113, 114, 115, 116, 118, 119, 120, 122, 123, 124, 125, 126, 127, 128, 129, 131, 133, 134, 135, 136, 137, 138, 139, 140, 141, 142, 144, 145, 146, 147, 148, 149, 150, 151, 152, 153, 155, 157, 158, 159, 160, 161, 162, 163, 164, 166, 167, 168, 170, 171, 172, 173, 174, 175, 177, 178, 179, 180, 181, 183, 184, 185, 186, 188, 189, 190, 191, 192, 193, 194, 196, 197, 199, 200, 201, 202, 203, 204, 205, 206, 207, 210, 211, 212, 213, 214, 215, 216, 217, 218, 219, 222, 223, 224, 225, 226, 227, 228, 229, 230, 232, 233, 235, 236, 237, 238, 239, 240, 241, 243, 244, 245, 246, 248, 249, 250, 251, 252, 254, 255, 256, 257, 258, 259, 261, 262, 263, 265, 266, 267, 268, 269, 270, 271, 272, 274, 276, 277, 278, 279, 280, 281, 282, 283, 284, 285, 287, 288, 289, 290, 291, 292, 293, 294, 295, 296, 298, 300, 301, 302, 303, 304, 305, 306, 307, 309, 310, 311, 313, 314, 315, 316, 317, 318, 320, 321, 322, 323, 324, 326, 327, 328, 329, 331, 332, 333, 334, 335, 336, 337, 339, 340, 342, 343, 344, 345, 346, 347, 348, 349, 350, 353, 354, 355, 356, 357, 358, 359, 360, 361, 362, 365, 366, 367, 368, 369, 370, 371, 372, 373, 375, 376, 378, 379, 380, 381, 382, 383, 384, 386, 387, 388, 389, 391, 392, 393, 394, 395, 397, 398, 399, 400, 401, 402, 404, 405, 406, 408, 409, 410, 411, 412, 413, 414, 415, 417, 419, 420, 421, 422, 423, 424, 425, 426, 427, 428, 430, 431, 432, 433, 434, 435, 436, 437, 438, 439, 441, 443, 444, 445, 446, 447, 448, 449, 450, 452, 453, 454, 456, 457, 458, 459, 460, 461, 463, 464, 465, 466, 467, 469, 470, 471, 472, 474, 475, 476, 477, 478, 479, 480, 482, 483, 485, 486, 487, 488, 489, 490, 491, 492, 493, 496, 497, 498, 499, 500, 501, 502, 503, 504, 505, 508, 509, 510, 511, 512, 513, 514, 515, 516, 518, 519, 521, 522, 523, 524, 525, 526, 527, 529, 530, 531, 532, 534, 535, 536, 537, 538, 540, 541, 542, 543, 544, 545, 547, 548, 549, 551, 552, 553, 554, 555, 556, 557, 558, 560, 562, 563, 564, 565, 566, 567, 568, 569, 570, 571, 573, 574, 575, 576, 577, 578, 579, 580, 581, 582, 584, 586, 587, 588, 589, 590, 591, 592, 593, 595, 596, 597, 599, 600, 601, 602, 603, 604, 606, 607, 608, 609, 610, 612, 613, 614, 615, 617, 618, 619, 620, 621, 622, 623, 625, 626, 628, 629, 630, 631, 632, 633, 634, 635, 636, 639, 640, 641, 642, 643, 644, 645, 646, 647, 648, 651, 652, 653, 654, 655, 656, 657, 658, 659, 661, 662, 664, 665, 666, 667, 668, 669, 670, 672, 673, 674, 675, 677, 678, 679, 680, 681, 683, 684, 685, 686, 687, 688, 690, 691, 692, 694, 695, 696, 697, 698, 699, 700, 701, 703, 705, 706, 707, 708, 709, 710, 711, 712, 713, 714, 716, 717, 718, 719, 720, 721, 722, 723, 724, 725, 727, 729, 730, 731, 732, 733, 734, 735, 736, 738, 739, 740, 742, 743, 744, 745, 746, 747, 749, 750, 751, 752, 753, 755, 756, 757, 758, 760, 761, 762, 763, 764, 765, 766, 768, 769, 771, 772, 773, 774, 775, 776, 777, 778, 779, 782, 783, 784, 785, 786, 787, 788, 789, 790, 791, 794, 795, 796, 797, 798, 799, 800, 801, 802, 804, 805, 807, 808, 809, 810, 811, 812, 813, 815, 816, 817, 818, 820, 821, 822, 823, 824, 826, 827, 828, 829, 830, 831, 833, 834, 835, 837, 838, 839, 840, 841, 842, 843, 844, 846, 848, 849, 850, 851, 852, 853, 854, 855, 856, 857, 859, 860, 861, 862, 863, 864, 865, 866, 867, 868, 870, 872, 873, 874, 875, 876, 877, 878, 879, 881, 882, 883, 885, 886, 887, 888, 889, 890, 892, 893, 894, 895, 896, 898, 899, 900, 901, 903, 904, 905, 906, 907, 908, 909, 911, 912, 914, 915, 916, 917, 918, 919, 920, 921, 922, 925, 926, 927, 928, 929, 930, 931, 932, 933, 934, 937, 938, 939, 940, 941, 942, 943, 944, 945, 947, 948, 950, 951, 952, 953, 954, 955, 956, 958, 959, 960, 961, 963, 964, 965, 966, 967, 969, 970, 971, 972, 973, 974, 976, 977, 978, 980, 981, 982, 983, 984, 985, 986, 987, 989, 991, 992, 993, 994, 995, 996, 997, 998, 999, 1000]\n",
      "\n"
     ]
    }
   ],
   "source": [
    "#a\n",
    "resultA = sum(range(101))\n",
    "print(\"A\\n{}\\n\".format(resultA))\n",
    "\n",
    "#b\n",
    "resultB = sum([x for x in range(101) if x%3 == 0])\n",
    "print(\"B\\n{}\\n\".format(resultB))\n",
    "\n",
    "#c\n",
    "resultC = [x for x in range(1001) if (x % 11 != 0 and x % 13 != 0)]\n",
    "print(\"C\\n{}\\n\".format(resultC))"
   ]
  },
  {
   "cell_type": "markdown",
   "metadata": {},
   "source": [
    "# Aufgabe 1.7"
   ]
  },
  {
   "cell_type": "code",
   "execution_count": 113,
   "metadata": {
    "collapsed": false
   },
   "outputs": [
    {
     "name": "stdout",
     "output_type": "stream",
     "text": [
      "A\n",
      "[7, 9, 12, 11, 7, 6, 10, 6, 16, 11, 14, 12, 6, 8, 8, 6, 7, 6, 7, 7, 6, 7, 10, 13, 8, 8, 8, 11, 10, 7, 16, 27, 17, 10, 6, 5, 6, 6, 8, 10, 4, 6, 5, 7, 7, 7, 7, 7, 7, 7, 4, 5, 5, 6, 9, 7, 5, 6, 5, 10, 6, 6, 5, 10, 10, 5, 8, 5, 9, 5, 5]\n",
      "\n",
      "B\n",
      "27\n",
      "\n",
      "C\n",
      "_formatter_field_name_split hat die Länge 27\n"
     ]
    }
   ],
   "source": [
    "#a\n",
    "resultA = [len(x) for x in dir(str)]\n",
    "print(\"A\\n{}\\n\".format(resultA))\n",
    "\n",
    "#b\n",
    "resultB = max([len(x) for x in dir(str)])\n",
    "print(\"B\\n{}\\n\".format(resultB))\n",
    "\n",
    "#c\n",
    "resultC = max((len(x), x) for x in dir(str))\n",
    "print(\"C\\n{} hat die Länge {}\".format(resultC[1], resultC[0]))"
   ]
  },
  {
   "cell_type": "markdown",
   "metadata": {},
   "source": [
    "# Aufgabe 1.8*"
   ]
  },
  {
   "cell_type": "code",
   "execution_count": 185,
   "metadata": {
    "collapsed": false
   },
   "outputs": [
    {
     "name": "stdout",
     "output_type": "stream",
     "text": [
      "A\n",
      "[2, 3, 4, 5, 3, 3, 5, 6, 3, 4]\n",
      "\n",
      "B\n",
      "0.16198\n",
      "\n",
      "C\n",
      "0.15499\n",
      "\n"
     ]
    }
   ],
   "source": [
    "import random\n",
    "#a\n",
    "def throw_dice(times=1):\n",
    "    return [random.randint(1,6) for _ in range(times)]\n",
    "print(\"A\\n{}\\n\".format(throw_dice(10)))\n",
    "\n",
    "#b \n",
    "trials = 100000\n",
    "resultB = len([x for _ in range(trials) if 1 not in throw_dice(10)])/float(trials)\n",
    "print(\"B\\n{}\\n\".format(resultB))\n",
    "\n",
    "#c\n",
    "resultC = len([x for _ in range(trials) if throw_dice(10).count(1) == 3])/(float(trials))\n",
    "print(\"C\\n{}\\n\".format(resultC))"
   ]
  },
  {
   "cell_type": "markdown",
   "metadata": {},
   "source": [
    "# Aufgabe 1.9"
   ]
  },
  {
   "cell_type": "code",
   "execution_count": 202,
   "metadata": {
    "collapsed": false
   },
   "outputs": [],
   "source": [
    "def myMax(lst):\n",
    "    return reduce(lambda x,y: x if x > y else y, lst)"
   ]
  },
  {
   "cell_type": "markdown",
   "metadata": {},
   "source": [
    "# Aufgabe 1.10*"
   ]
  },
  {
   "cell_type": "code",
   "execution_count": 224,
   "metadata": {
    "collapsed": false
   },
   "outputs": [
    {
     "data": {
      "text/plain": [
       "(1, 2, 'a', 'b', [1], [2])"
      ]
     },
     "execution_count": 224,
     "metadata": {},
     "output_type": "execute_result"
    }
   ],
   "source": [
    "reduce(lambda x,y: x+y, [(1,2), ('a', 'b'), ([1], [2])])"
   ]
  },
  {
   "cell_type": "markdown",
   "metadata": {},
   "source": [
    "# Aufgabe 1.11"
   ]
  },
  {
   "cell_type": "code",
   "execution_count": 258,
   "metadata": {
    "collapsed": false
   },
   "outputs": [
    {
     "name": "stdout",
     "output_type": "stream",
     "text": [
      "A\n",
      "['Python Hello\\n']\n",
      "\n",
      "B\n",
      "['Hello Python\\n', 'Python Hello\\n']\n",
      "\n",
      "C\n",
      "['Hello Python\\n', 'Python Hello\\n', 'Ananas aus Alaska\\n']\n",
      "\n",
      "D\n",
      "a kommt 5 mal vor in Ananas aus Alaska\n",
      "\n",
      "\n"
     ]
    }
   ],
   "source": [
    "myFile = \"./test.txt\"\n",
    "#a\n",
    "resultA = [line for line in open(myFile).readlines() if line.startswith(\"Py\")]\n",
    "print(\"A\\n{}\\n\".format(resultA))\n",
    "\n",
    "#b\n",
    "resultB = [line for line in open(myFile).readlines() if \"Python\" in line]\n",
    "print(\"B\\n{}\\n\".format(resultB))\n",
    "\n",
    "#c\n",
    "resultC = [line for line in open(myFile).readlines() if line.rstrip(\"\\n\")[-1].islower()] #ignores the \\n if present\n",
    "print(\"C\\n{}\\n\".format(resultC))\n",
    "\n",
    "#d\n",
    "resultD = max([(line.count(\"a\"), line) for line in open(myFile).readlines()])\n",
    "print(\"D\\na kommt {} mal vor in {}\\n\".format(resultD[0], resultD[1]))\n"
   ]
  },
  {
   "cell_type": "markdown",
   "metadata": {},
   "source": [
    "# Aufgabe 1.12"
   ]
  },
  {
   "cell_type": "code",
   "execution_count": 279,
   "metadata": {
    "collapsed": false
   },
   "outputs": [
    {
     "name": "stdout",
     "output_type": "stream",
     "text": [
      "A\n",
      "['.git', '.ipynb_checkpoints', 'Aufgabenblatt 1.ipynb', 'dummy1.c', 'dummy2.c', 'test.txt']\n",
      "\n",
      "B\n",
      "[(21, 'Aufgabenblatt 1.ipynb'), (8, 'dummy1.c'), (8, 'dummy2.c'), (8, 'test.txt')]\n",
      "\n"
     ]
    }
   ],
   "source": [
    "from os import listdir, walk, path\n",
    "\n",
    "#a\n",
    "resultA = listdir('.')\n",
    "print(\"A\\n{}\\n\".format(resultA))\n",
    "\n",
    "#b\n",
    "resultB = [(len(item), item) for item in filter(path.isfile, listdir('.'))]\n",
    "print(\"B\\n{}\\n\".format(resultB))\n",
    "\n",
    "#c"
   ]
  },
  {
   "cell_type": "code",
   "execution_count": null,
   "metadata": {
    "collapsed": true
   },
   "outputs": [],
   "source": []
  }
 ],
 "metadata": {
  "anaconda-cloud": {},
  "kernelspec": {
   "display_name": "Python [py2_env]",
   "language": "python",
   "name": "Python [py2_env]"
  },
  "language_info": {
   "codemirror_mode": {
    "name": "ipython",
    "version": 2
   },
   "file_extension": ".py",
   "mimetype": "text/x-python",
   "name": "python",
   "nbconvert_exporter": "python",
   "pygments_lexer": "ipython2",
   "version": "2.7.12"
  }
 },
 "nbformat": 4,
 "nbformat_minor": 0
}
