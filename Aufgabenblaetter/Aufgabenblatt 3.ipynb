{
 "cells": [
  {
   "cell_type": "markdown",
   "metadata": {},
   "source": [
    "## Aufgabe 3.0"
   ]
  },
  {
   "cell_type": "code",
   "execution_count": 7,
   "metadata": {
    "collapsed": false
   },
   "outputs": [
    {
     "name": "stdout",
     "output_type": "stream",
     "text": [
      "Original array:\n",
      "[ 1  6 12  2  9 17  4 14 16 18  3 10 19  5 13  8 11 15  7]\n",
      "Outlier number x_n where x_n > x_n-1:\n",
      "[ 6 12  9 17 14 16 18 10 19 13 11 15]\n"
     ]
    }
   ],
   "source": [
    "import numpy as np\n",
    "x = np.arange(1,20)\n",
    "np.random.seed(42)\n",
    "np.random.shuffle(x)\n",
    "x_outlier = x[1:][x[1:]>x[:-1]]\n",
    "print(\"Original array:\\n{}\\nOutlier number x_n where x_n > x_n-1:\\n{}\".format(x, x_outlier))"
   ]
  },
  {
   "cell_type": "markdown",
   "metadata": {},
   "source": [
    "## Aufgabe 3.1\n",
    "\n",
    "$$ \\pi = \\sqrt{6\\cdot\\sum_{n=1}^{\\infty}\\frac{1}{n^{2}}} \n",
    "\\Leftrightarrow \n",
    "\\frac{\\pi^{2}}{6} = \\sum_{n=1}^{\\infty}\\frac{1}{n^{2}} \\\\\n",
    "\\text{Euler's solution to Basel Problem}$$ "
   ]
  },
  {
   "cell_type": "code",
   "execution_count": 8,
   "metadata": {
    "collapsed": false
   },
   "outputs": [
    {
     "data": {
      "text/plain": [
       "[2.4494897427831779,\n",
       " 2.4494897427831779,\n",
       " 2.4494897427831779,\n",
       " 2.4494897427831779,\n",
       " 2.4494897427831779]"
      ]
     },
     "execution_count": 8,
     "metadata": {},
     "output_type": "execute_result"
    }
   ],
   "source": [
    "import numpy as np\n",
    "\n",
    "def estimate_pi(n, type=\"int64\"):\n",
    "    \"\"\" Estimating PI based on 'Basel Problem' \n",
    "    \n",
    "    Keyword arguments:\n",
    "    type -- internal datatype (default int64)\n",
    "    \"\"\"\n",
    "    return np.sqrt(6*np.sum(1/np.square(np.arange(1,n, dtype=type))))\n",
    "\n",
    "[ estimate_pi(_) for _ in [10, 100, 1000, 10000, 100000]]"
   ]
  },
  {
   "cell_type": "markdown",
   "metadata": {},
   "source": [
    "## Aufgabe 3.2"
   ]
  },
  {
   "cell_type": "code",
   "execution_count": 9,
   "metadata": {
    "collapsed": false
   },
   "outputs": [
    {
     "name": "stdout",
     "output_type": "stream",
     "text": [
      "A:\n",
      "   num     name  age\n",
      "1    1     Otto   33\n",
      "2    2     Hugo   31\n",
      "3    3     Egon   54\n",
      "4    4  Frieder   88\n",
      "\n",
      "B\n",
      "   name  age\n",
      "1  Otto   33\n",
      "2  Hugo   31\n",
      "\n",
      "C\n",
      "   num  name  age\n",
      "2    2  Hugo   31\n",
      "3    3  Egon   54\n",
      "\n"
     ]
    }
   ],
   "source": [
    "import pandas as pd\n",
    "\n",
    "#a\n",
    "data = {\"num\" : range(1,5),\\\n",
    "        \"name\" : [\"Otto\", \"Hugo\", \"Egon\", \"Frieder\"],\\\n",
    "        \"age\" : [33,31,54,88]}\n",
    "dfA = pd.DataFrame(data, columns=[\"num\", \"name\", \"age\"], index=range(1,5))\n",
    "print(\"A:\\n{}\\n\".format(dfA))\n",
    "\n",
    "#b\n",
    "dfB = dfA.loc[dfA[\"age\"] < 50, [\"name\", \"age\"]]\n",
    "print(\"B\\n{}\\n\".format(dfB))\n",
    "\n",
    "#c\n",
    "dfC = dfA.loc[dfA[\"name\"].isin([\"Hugo\", \"Egon\"])]\n",
    "print(\"C\\n{}\\n\".format(dfC))"
   ]
  },
  {
   "cell_type": "markdown",
   "metadata": {},
   "source": [
    "## Aufgabe 3.3"
   ]
  },
  {
   "cell_type": "code",
   "execution_count": 10,
   "metadata": {
    "collapsed": false
   },
   "outputs": [
    {
     "data": {
      "image/png": "[encoded data removed]",
      "text/plain": [
       "<matplotlib.figure.Figure at 0x109ac07d0>"
      ]
     },
     "metadata": {},
     "output_type": "display_data"
    }
   ],
   "source": [
    "import pandas as pd\n",
    "import numpy as np\n",
    "from matplotlib import pyplot as plt\n",
    "%matplotlib inline\n",
    "\n",
    "#a\n",
    "x = np.arange(-2, 2.1, .1)\n",
    "data = {\"val\": x, \"f\": np.power(x, 3)}\n",
    "df = pd.DataFrame(data, columns=[\"val\", \"f\"])\n",
    "\n",
    "#b\n",
    "plt.plot(df[\"val\"], df[\"f\"])\n",
    "plt.xlim(-2, 2)\n",
    "plt.title(r\"$f(x) = x^{3}$\", fontsize=15)\n",
    "plt.show()"
   ]
  },
  {
   "cell_type": "markdown",
   "metadata": {},
   "source": [
    "## Aufgabe 3.4"
   ]
  },
  {
   "cell_type": "code",
   "execution_count": 11,
   "metadata": {
    "collapsed": false
   },
   "outputs": [
    {
     "data": {
      "image/png": "[encoded data removed]",
      "text/plain": [
       "<matplotlib.figure.Figure at 0x10986b0d0>"
      ]
     },
     "metadata": {},
     "output_type": "display_data"
    }
   ],
   "source": [
    "import numpy as np\n",
    "from matplotlib import pyplot as plt\n",
    "%matplotlib inline\n",
    "\n",
    "mu = 0\n",
    "sigma = 1 \n",
    "np.random.seed(0)\n",
    "plt.hist(np.random.normal(mu, sigma, 100))\n",
    "plt.title(\"Normalverteilung\\n\" + r\"$\\mu=0, \\sigma=1$\", fontsize=15)\n",
    "plt.show()"
   ]
  }
 ],
 "metadata": {
  "anaconda-cloud": {},
  "kernelspec": {
   "display_name": "Python [py2_env]",
   "language": "python",
   "name": "Python [py2_env]"
  },
  "language_info": {
   "codemirror_mode": {
    "name": "ipython",
    "version": 2
   },
   "file_extension": ".py",
   "mimetype": "text/x-python",
   "name": "python",
   "nbconvert_exporter": "python",
   "pygments_lexer": "ipython2",
   "version": "2.7.12"
  }
 },
 "nbformat": 4,
 "nbformat_minor": 0
}
