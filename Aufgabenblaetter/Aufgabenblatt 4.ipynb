{
 "cells": [
  {
   "cell_type": "markdown",
   "metadata": {},
   "source": [
    "# Aufgabe 4.0"
   ]
  },
  {
   "cell_type": "code",
   "execution_count": 526,
   "metadata": {
    "collapsed": false
   },
   "outputs": [
    {
     "name": "stdout",
     "output_type": "stream",
     "text": [
      "Aufgabe 1:\n",
      "Nordrhein-Westfalen hat die meisten Erwerbstätigen: 8418180\n",
      "\n",
      "Aufgabe 2:\n",
      "Relativer Anteil der Erwerbstätigen unter 18 pro Bundesland:\n",
      "LAND\n",
      "Baden-Württemberg         0.007678\n",
      "Bayern                    0.007828\n",
      "Berlin                    0.002465\n",
      "Brandenburg               0.001898\n",
      "Bremen                    0.003261\n",
      "Hamburg                   0.003892\n",
      "Hessen                    0.005385\n",
      "Mecklenburg-Vorpommern    0.000000\n",
      "Niedersachsen             0.005343\n",
      "Nordrhein-Westfalen       0.003676\n",
      "Rheinland-Pfalz           0.005757\n",
      "Saarland                  0.004318\n",
      "Sachsen                   0.002791\n",
      "Sachsen-Anhalt            0.001513\n",
      "Schleswig-Holstein        0.005865\n",
      "Thüringen                 0.000612\n",
      "dtype: float64\n",
      "\n",
      "Aufgabe 3:\n",
      "Baden-Württemberg ist das Bundesland mit der höchsten Varianz der Erwerbstätigen unter 18: 1299094.42149\n"
     ]
    }
   ],
   "source": [
    "import pandas as pd\n",
    "\n",
    "# 0 - load data\n",
    "path_erwerb = \"../data/census/soziodemo_zip/Neu_Bevoelkerung_nach_Erwerbsstatus_2011_V1_28Mai2013.csv\"\n",
    "df_with_subtotals = pd.read_csv(path_erwerb, sep=\";\")\n",
    "df = df_with_subtotals[df_with_subtotals[\"KREIS\"] != \"Gesamt\"] # create copy without subtotals\n",
    "\n",
    "#1\n",
    "result_1 = df.groupby(\"LAND\")[\"ERWERBST\"]\\\n",
    ".agg(np.sum).sort_values(ascending=False)[:1]\n",
    "print(\"Aufgabe 1:\\n{} hat die meisten Erwerbstätigen: {}\\n\".format(result_1.index[0], result_1.values[0]))\n",
    "\n",
    "#2\n",
    "df.loc[df.ERW18 == \"/\", \"ERW18\"] = 0 # replace '/' with \n",
    "result_2 = \\\n",
    "df.groupby(\"LAND\")[[\"ERW18\", \"BEV\"]]\\\n",
    ".agg(lambda x: np.sum(pd.to_numeric(x)))\\\n",
    ".apply(lambda row: float(row[\"ERW18\"]) / row[\"BEV\"], axis=1)\n",
    "print(\"Aufgabe 2:\\nRelativer Anteil der Erwerbstätigen unter 18 pro Bundesland:\\n{}\\n\".format(result_2))\n",
    "\n",
    "#3\n",
    "result_3 = \\\n",
    "df.groupby(\"LAND\")[\"ERW18\"]\\\n",
    ".agg(lambda x: np.var(pd.to_numeric(x)))\\\n",
    ".sort_values(ascending=False)[:1]\n",
    "print(\"Aufgabe 3:\\n{} ist das Bundesland mit der höchsten Varianz der Erwerbstätigen unter 18: {}\"\\\n",
    "     .format(result_3.index[0], result_3.values[0]))\n",
    "\n",
    "#4"
   ]
  },
  {
   "cell_type": "markdown",
   "metadata": {},
   "source": [
    "# Additional Resources"
   ]
  },
  {
   "cell_type": "markdown",
   "metadata": {},
   "source": [
    "## How to address cells in a DataFrame"
   ]
  },
  {
   "cell_type": "code",
   "execution_count": 228,
   "metadata": {
    "collapsed": false
   },
   "outputs": [
    {
     "data": {
      "text/html": [
       "<div>\n",
       "<table border=\"1\" class=\"dataframe\">\n",
       "  <thead>\n",
       "    <tr style=\"text-align: right;\">\n",
       "      <th></th>\n",
       "      <th>COL via LABEL</th>\n",
       "      <th>COL via POSITION</th>\n",
       "    </tr>\n",
       "  </thead>\n",
       "  <tbody>\n",
       "    <tr>\n",
       "      <th>ROW via INDEX</th>\n",
       "      <td>.loc or .ix</td>\n",
       "      <td>.ix</td>\n",
       "    </tr>\n",
       "    <tr>\n",
       "      <th>ROW via POSITION</th>\n",
       "      <td>.ix if LABEL != INT</td>\n",
       "      <td>.iloc or .ix if LABEL != INT</td>\n",
       "    </tr>\n",
       "  </tbody>\n",
       "</table>\n",
       "</div>"
      ],
      "text/plain": [
       "                        COL via LABEL              COL via POSITION\n",
       "ROW via INDEX             .loc or .ix                           .ix\n",
       "ROW via POSITION  .ix if LABEL != INT  .iloc or .ix if LABEL != INT"
      ]
     },
     "execution_count": 228,
     "metadata": {},
     "output_type": "execute_result"
    }
   ],
   "source": [
    "ind = [\"ROW via INDEX\", \"ROW via POSITION\"]\n",
    "data = {\\\n",
    "       \"COL via LABEL\" : [\".loc or .ix\", \".ix if LABEL != INT\"],\\\n",
    "       \"COL via POSITION\" : [\".ix\", \".iloc or .ix if LABEL != INT\"]}\n",
    "pd.DataFrame(data, ind)"
   ]
  },
  {
   "cell_type": "markdown",
   "metadata": {},
   "source": [
    "## Pandas essentials\n",
    "* http://tomaugspurger.github.io/modern-1.html\n",
    "* http://tomaugspurger.github.io/method-chaining.html\n",
    "* http://tomaugspurger.github.io/modern-3-indexes.html\n",
    "* http://tomaugspurger.github.io/modern-4-performance.html\n",
    "* http://tomaugspurger.github.io/modern-5-tidy.html\n",
    "* http://tomaugspurger.github.io/modern-6-visualization.html\n",
    "* http://tomaugspurger.github.io/modern-7-timeseries.html"
   ]
  }
 ],
 "metadata": {
  "anaconda-cloud": {},
  "kernelspec": {
   "display_name": "Python [py2_env]",
   "language": "python",
   "name": "Python [py2_env]"
  },
  "language_info": {
   "codemirror_mode": {
    "name": "ipython",
    "version": 2
   },
   "file_extension": ".py",
   "mimetype": "text/x-python",
   "name": "python",
   "nbconvert_exporter": "python",
   "pygments_lexer": "ipython2",
   "version": "2.7.12"
  }
 },
 "nbformat": 4,
 "nbformat_minor": 0
}
