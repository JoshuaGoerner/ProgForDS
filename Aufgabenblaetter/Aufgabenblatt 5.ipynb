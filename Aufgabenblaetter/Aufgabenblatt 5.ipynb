{
 "cells": [
  {
   "cell_type": "markdown",
   "metadata": {},
   "source": [
    "# Aufgabe 5.0"
   ]
  },
  {
   "cell_type": "code",
   "execution_count": 171,
   "metadata": {
    "collapsed": false
   },
   "outputs": [
    {
     "name": "stdout",
     "output_type": "stream",
     "text": [
      "1 2 3 4 5 6 7 8 9 102 2 2 2 2 \n",
      "2 2.2 2.4 2.6 2.8 3 3.2 3.4 3.6 3.8 4 \n",
      "1 3 5 10 \n",
      "24 39 63 \n",
      "4 1 2 1 \n",
      "TRUE FALSE TRUE FALSE FALSE \n"
     ]
    }
   ],
   "source": [
    "# a\n",
    "cat(1:10)\n",
    "\n",
    "# b\n",
    "cat(rep(2,5),\"\\n\")\n",
    "\n",
    "# c\n",
    "cat(seq(2,4,0.2),\"\\n\")\n",
    "\n",
    "# d\n",
    "cat(sqrt(c(1,9,25,100)),\"\\n\")\n",
    "\n",
    "# e\n",
    "z <- c(8, 13, 21)\n",
    "cat(3*z, \"\\n\")\n",
    "\n",
    "# f\n",
    "cat(table(c(1,3,3,1,4,1,1,2)), \"\\n\") # logischer als table(1,3,3,1,4,1,1,2)\n",
    "\n",
    "# g\n",
    "cat(c(1,2,3,5,7) %in% c(1,3,4), \"\\n\")"
   ]
  },
  {
   "cell_type": "markdown",
   "metadata": {},
   "source": [
    "# Aufgabe 5.1"
   ]
  },
  {
   "cell_type": "code",
   "execution_count": 173,
   "metadata": {
    "collapsed": false
   },
   "outputs": [
    {
     "name": "stdout",
     "output_type": "stream",
     "text": [
      "A:\n",
      " a  b  c  d  e  f  g  h  i  j  k \n",
      " 0  1  2  3  4  5  6  7  8  9 10 \n",
      "\n",
      "B:\n",
      "  a   b   c   d   e   f   g   h   i   j   k \n",
      "  0 100   2 100   4 100   6 100   8 100  10 \n",
      "\n",
      "C:\n",
      "  a   b   c   d   e   f   g   h   i   j   k \n",
      " -1  -1   2 100   4  -1  -1  -1  -1  -1  -1 \n"
     ]
    }
   ],
   "source": [
    "# a\n",
    "z <- c(0:10)\n",
    "names(z) <- letters[seq(z)]\n",
    "cat(\"A:\\n\")\n",
    "print(z)\n",
    "cat(\"\\n\")\n",
    "\n",
    "\n",
    "# b\n",
    "z[z%%2 != 0] <- 100\n",
    "cat(\"B:\\n\")\n",
    "print(z)\n",
    "cat(\"\\n\")\n",
    "\n",
    "# c\n",
    "z[!names(z) %in% c(\"c\", \"d\", \"e\")] <- -1\n",
    "cat(\"C:\\n\")\n",
    "print(z)"
   ]
  },
  {
   "cell_type": "markdown",
   "metadata": {},
   "source": [
    "# Aufgabe 5.2"
   ]
  },
  {
   "cell_type": "code",
   "execution_count": 174,
   "metadata": {
    "collapsed": false
   },
   "outputs": [
    {
     "name": "stdout",
     "output_type": "stream",
     "text": [
      "A:\n"
     ]
    },
    {
     "data": {
      "text/html": [
       "728"
      ],
      "text/latex": [
       "728"
      ],
      "text/markdown": [
       "728"
      ],
      "text/plain": [
       "[1] 728"
      ]
     },
     "metadata": {},
     "output_type": "display_data"
    },
    {
     "name": "stdout",
     "output_type": "stream",
     "text": [
      "\n"
     ]
    }
   ],
   "source": [
    "# a\n",
    "tmp_max <- 10000\n",
    "cat(\"A:\\n\")\n",
    "length(seq(tmp_max)[seq(tmp_max) %% 11 == 0 & seq(tmp_max) %% 5 != 0])\n",
    "cat(\"\\n\")\n",
    "\n",
    "# b\n",
    "\n",
    "\n",
    "# c\n",
    "\n",
    "\n",
    "# d"
   ]
  }
 ],
 "metadata": {
  "kernelspec": {
   "display_name": "R",
   "language": "R",
   "name": "ir"
  },
  "language_info": {
   "codemirror_mode": "r",
   "file_extension": ".r",
   "mimetype": "text/x-r-source",
   "name": "R",
   "pygments_lexer": "r",
   "version": "3.2.4"
  }
 },
 "nbformat": 4,
 "nbformat_minor": 0
}
